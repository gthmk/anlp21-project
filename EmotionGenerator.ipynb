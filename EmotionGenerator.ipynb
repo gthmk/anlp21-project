{
 "cells": [
  {
   "cell_type": "code",
   "execution_count": 5,
   "id": "10afbca8",
   "metadata": {},
   "outputs": [
    {
     "ename": "NameError",
     "evalue": "name 'SentimentIntensityAnalyzer' is not defined",
     "output_type": "error",
     "traceback": [
      "\u001b[0;31m---------------------------------------------------------------------------\u001b[0m",
      "\u001b[0;31mNameError\u001b[0m                                 Traceback (most recent call last)",
      "\u001b[0;32m/var/folders/nf/mymsq1x11ls4v86t0_q5v_yw0000gn/T/ipykernel_74767/3601689446.py\u001b[0m in \u001b[0;36m<module>\u001b[0;34m\u001b[0m\n\u001b[0;32m----> 1\u001b[0;31m \u001b[0manalyzer\u001b[0m \u001b[0;34m=\u001b[0m \u001b[0mSentimentIntensityAnalyzer\u001b[0m\u001b[0;34m(\u001b[0m\u001b[0;34m)\u001b[0m\u001b[0;34m\u001b[0m\u001b[0;34m\u001b[0m\u001b[0m\n\u001b[0m",
      "\u001b[0;31mNameError\u001b[0m: name 'SentimentIntensityAnalyzer' is not defined"
     ]
    }
   ],
   "source": [
    "analyzer = SentimentIntensityAnalyzer()"
   ]
  },
  {
   "cell_type": "code",
   "execution_count": 6,
   "id": "7134a3a9",
   "metadata": {},
   "outputs": [],
   "source": [
    "def buildText2EmotionJson(lyrics_array):\n",
    "    \n",
    "    lyrics_array = literal_eval(lyrics_array)\n",
    "\n",
    "    final_result = {'Happy': 0, 'Angry': 0, 'Surprise': 0, 'Sad': 0, 'Fear': 0}\n",
    "    \n",
    "    count = 0\n",
    "\n",
    "    for i in range(0,len(lyrics_array), 10):\n",
    "        \n",
    "        count += 1\n",
    "        intermediate = ' '.join(lyrics_array[i:i+10])\n",
    "        \n",
    "#         print(intermediate)\n",
    "\n",
    "        emotion = te.get_emotion(intermediate)\n",
    "        \n",
    "#         print(\"emotion\",emotion)\n",
    "\n",
    "        for key, value in emotion.items():\n",
    "            final_result[key] += value\n",
    "    \n",
    "    for key in final_result:\n",
    "        if count != 0:\n",
    "            final_result[key] /= count\n",
    "        else:\n",
    "            final_result[key] = 0\n",
    "        \n",
    "    return final_result"
   ]
  },
  {
   "cell_type": "code",
   "execution_count": 7,
   "id": "d2d191a9",
   "metadata": {},
   "outputs": [],
   "source": [
    "def buildVaderEmotionJson(lyrics_array):\n",
    "    lyrics_array = literal_eval(lyrics_array)\n",
    "\n",
    "    final_result = {'pos': 0, 'neg': 0, 'neu': 0 ,'compound': 0}\n",
    "    \n",
    "    count = 0\n",
    "\n",
    "    for i in range(0,len(lyrics_array), 10):\n",
    "        \n",
    "        count += 1\n",
    "        intermediate = ' '.join(lyrics_array[i:i+10])\n",
    "        \n",
    "#         print(intermediate)\n",
    "\n",
    "        emotion = analyzer.polarity_scores(intermediate)\n",
    "        \n",
    "#         print(\"emotion\",emotion)\n",
    "\n",
    "        for key, value in emotion.items():\n",
    "            final_result[key] += value\n",
    "    \n",
    "    for key in final_result:\n",
    "        if count != 0:\n",
    "            final_result[key] /= count\n",
    "        else:\n",
    "            final_result[key] = 0\n",
    "        \n",
    "    return final_result"
   ]
  }
 ],
 "metadata": {
  "kernelspec": {
   "display_name": "Python 3 (ipykernel)",
   "language": "python",
   "name": "python3"
  },
  "language_info": {
   "codemirror_mode": {
    "name": "ipython",
    "version": 3
   },
   "file_extension": ".py",
   "mimetype": "text/x-python",
   "name": "python",
   "nbconvert_exporter": "python",
   "pygments_lexer": "ipython3",
   "version": "3.8.8"
  }
 },
 "nbformat": 4,
 "nbformat_minor": 5
}
