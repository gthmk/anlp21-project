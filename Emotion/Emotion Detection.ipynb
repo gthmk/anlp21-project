{
 "cells": [
  {
   "cell_type": "code",
   "execution_count": 1,
   "id": "7fc92307",
   "metadata": {},
   "outputs": [
    {
     "name": "stderr",
     "output_type": "stream",
     "text": [
      "[nltk_data] Downloading package stopwords to\n",
      "[nltk_data]     /Users/pratikaher/nltk_data...\n",
      "[nltk_data]   Package stopwords is already up-to-date!\n",
      "[nltk_data] Downloading package punkt to\n",
      "[nltk_data]     /Users/pratikaher/nltk_data...\n",
      "[nltk_data]   Package punkt is already up-to-date!\n",
      "[nltk_data] Downloading package wordnet to\n",
      "[nltk_data]     /Users/pratikaher/nltk_data...\n",
      "[nltk_data]   Package wordnet is already up-to-date!\n"
     ]
    }
   ],
   "source": [
    "import text2emotion as te"
   ]
  },
  {
   "cell_type": "code",
   "execution_count": 2,
   "id": "57a697d2",
   "metadata": {},
   "outputs": [],
   "source": [
    "import string\n",
    "import re"
   ]
  },
  {
   "cell_type": "code",
   "execution_count": 3,
   "id": "35afd7ae",
   "metadata": {},
   "outputs": [],
   "source": [
    "with open('sample.txt',  encoding='utf-8') as f:\n",
    "    lines = f.read().replace('\\n',' ').replace('\\u2005', ' ').replace('\\u205f', ' ')"
   ]
  },
  {
   "cell_type": "code",
   "execution_count": 4,
   "id": "8624415c",
   "metadata": {},
   "outputs": [],
   "source": [
    "lines = lines.split(' ')"
   ]
  },
  {
   "cell_type": "code",
   "execution_count": 5,
   "id": "5cb51bff",
   "metadata": {},
   "outputs": [],
   "source": [
    "result = []\n",
    "\n",
    "for word in lines:\n",
    "    if word not in string.punctuation and len(word) > 2:\n",
    "        result.append(word.lower())"
   ]
  },
  {
   "cell_type": "code",
   "execution_count": 6,
   "id": "41b2a576",
   "metadata": {},
   "outputs": [
    {
     "data": {
      "text/plain": [
       "['white',\n",
       " 'lips,',\n",
       " 'pale',\n",
       " 'face',\n",
       " 'breathing',\n",
       " 'the',\n",
       " 'snowflakes',\n",
       " 'burnt',\n",
       " 'lungs,',\n",
       " 'sour',\n",
       " 'taste',\n",
       " \"light's\",\n",
       " 'gone,',\n",
       " 'days',\n",
       " 'end',\n",
       " 'struggling',\n",
       " 'pay',\n",
       " 'rent',\n",
       " 'long',\n",
       " 'nights,',\n",
       " 'strange',\n",
       " 'men',\n",
       " 'and',\n",
       " 'they',\n",
       " 'say',\n",
       " \"she's\",\n",
       " 'the',\n",
       " 'class',\n",
       " 'team',\n",
       " 'stuck',\n",
       " 'her',\n",
       " 'daydream',\n",
       " 'been',\n",
       " 'this',\n",
       " 'way',\n",
       " 'since',\n",
       " 'but',\n",
       " 'lately,',\n",
       " 'her',\n",
       " 'face',\n",
       " 'seems',\n",
       " 'slowly',\n",
       " 'sinking,',\n",
       " 'wasting',\n",
       " 'crumbling',\n",
       " 'like',\n",
       " 'pastries',\n",
       " 'and',\n",
       " 'they',\n",
       " 'scream',\n",
       " 'the',\n",
       " 'worst',\n",
       " 'things',\n",
       " 'life',\n",
       " 'come',\n",
       " 'free',\n",
       " \"'cause\",\n",
       " \"we're\",\n",
       " 'just',\n",
       " 'under',\n",
       " 'the',\n",
       " 'upper',\n",
       " 'hand',\n",
       " 'and',\n",
       " 'mad',\n",
       " 'for',\n",
       " 'couple',\n",
       " 'grams',\n",
       " 'and',\n",
       " 'she',\n",
       " \"don't\",\n",
       " 'wanna',\n",
       " 'outside',\n",
       " 'tonight',\n",
       " 'and',\n",
       " 'pipe',\n",
       " 'she',\n",
       " 'flies',\n",
       " 'the',\n",
       " 'motherland',\n",
       " 'sells',\n",
       " 'love',\n",
       " 'another',\n",
       " 'man',\n",
       " \"it's\",\n",
       " 'too',\n",
       " 'cold',\n",
       " 'outside',\n",
       " 'for',\n",
       " 'angels',\n",
       " 'fly',\n",
       " 'angels',\n",
       " 'fly',\n",
       " 'ripped',\n",
       " 'gloves,',\n",
       " 'raincoat',\n",
       " 'tried',\n",
       " 'swim,',\n",
       " 'stay',\n",
       " 'afloat',\n",
       " 'dry',\n",
       " 'house,',\n",
       " 'wet',\n",
       " 'clothes',\n",
       " 'loose',\n",
       " 'change,',\n",
       " 'bank',\n",
       " 'notes',\n",
       " 'weary-eyed,',\n",
       " 'dry',\n",
       " 'throat',\n",
       " 'call',\n",
       " 'girl,',\n",
       " 'phone',\n",
       " 'and',\n",
       " 'they',\n",
       " 'say',\n",
       " \"she's\",\n",
       " 'the',\n",
       " 'class',\n",
       " 'team',\n",
       " 'stuck',\n",
       " 'her',\n",
       " 'daydream',\n",
       " 'been',\n",
       " 'this',\n",
       " 'way',\n",
       " 'since',\n",
       " 'but',\n",
       " 'lately,',\n",
       " 'her',\n",
       " 'face',\n",
       " 'seems',\n",
       " 'slowly',\n",
       " 'sinking,',\n",
       " 'wasting',\n",
       " 'crumbling',\n",
       " 'like',\n",
       " 'pastries',\n",
       " 'and',\n",
       " 'they',\n",
       " 'scream',\n",
       " 'the',\n",
       " 'worst',\n",
       " 'things',\n",
       " 'life',\n",
       " 'come',\n",
       " 'free',\n",
       " \"'cause\",\n",
       " \"we're\",\n",
       " 'just',\n",
       " 'under',\n",
       " 'the',\n",
       " 'upper',\n",
       " 'hand',\n",
       " 'and',\n",
       " 'mad',\n",
       " 'for',\n",
       " 'couple',\n",
       " 'grams',\n",
       " 'but',\n",
       " 'she',\n",
       " \"don't\",\n",
       " 'wanna',\n",
       " 'outside',\n",
       " 'tonight',\n",
       " 'and',\n",
       " 'pipe',\n",
       " 'she',\n",
       " 'flies',\n",
       " 'the',\n",
       " 'motherland',\n",
       " 'sells',\n",
       " 'love',\n",
       " 'another',\n",
       " 'man',\n",
       " \"it's\",\n",
       " 'too',\n",
       " 'cold',\n",
       " 'outside',\n",
       " 'for',\n",
       " 'angels',\n",
       " 'fly',\n",
       " 'angel',\n",
       " 'will',\n",
       " 'die',\n",
       " 'covered',\n",
       " 'white',\n",
       " 'closed',\n",
       " 'eyes',\n",
       " 'and',\n",
       " \"hopin'\",\n",
       " 'for',\n",
       " 'better',\n",
       " 'life',\n",
       " 'this',\n",
       " 'time,',\n",
       " \"we'll\",\n",
       " 'fade',\n",
       " 'out',\n",
       " 'tonight',\n",
       " 'straight',\n",
       " 'down',\n",
       " 'the',\n",
       " 'line',\n",
       " 'and',\n",
       " 'they',\n",
       " 'say',\n",
       " \"she's\",\n",
       " 'the',\n",
       " 'class',\n",
       " 'team',\n",
       " 'stuck',\n",
       " 'her',\n",
       " 'daydream',\n",
       " 'been',\n",
       " 'this',\n",
       " 'way',\n",
       " 'since',\n",
       " 'but',\n",
       " 'lately,',\n",
       " 'her',\n",
       " 'face',\n",
       " 'seems',\n",
       " 'slowly',\n",
       " 'sinking,',\n",
       " 'wasting',\n",
       " 'crumbling',\n",
       " 'like',\n",
       " 'pastries',\n",
       " 'they',\n",
       " 'scream',\n",
       " 'the',\n",
       " 'worst',\n",
       " 'things',\n",
       " 'life',\n",
       " 'come',\n",
       " 'free',\n",
       " 'and',\n",
       " \"we're\",\n",
       " 'all',\n",
       " 'under',\n",
       " 'the',\n",
       " 'upper',\n",
       " 'hand',\n",
       " 'and',\n",
       " 'mad',\n",
       " 'for',\n",
       " 'couple',\n",
       " 'grams',\n",
       " 'and',\n",
       " \"don't\",\n",
       " 'wanna',\n",
       " 'outside',\n",
       " 'tonight',\n",
       " 'and',\n",
       " 'the',\n",
       " 'pipe,',\n",
       " 'fly',\n",
       " 'the',\n",
       " 'motherland',\n",
       " 'sell',\n",
       " 'love',\n",
       " 'another',\n",
       " 'man',\n",
       " \"it's\",\n",
       " 'too',\n",
       " 'cold',\n",
       " 'outside',\n",
       " 'for',\n",
       " 'angels',\n",
       " 'fly',\n",
       " 'angels',\n",
       " 'fly',\n",
       " 'fly,',\n",
       " 'fly',\n",
       " 'for',\n",
       " 'angels',\n",
       " 'fly,',\n",
       " 'fly,',\n",
       " 'fly',\n",
       " 'angels',\n",
       " 'die']"
      ]
     },
     "execution_count": 6,
     "metadata": {},
     "output_type": "execute_result"
    }
   ],
   "source": [
    "result"
   ]
  },
  {
   "cell_type": "code",
   "execution_count": 7,
   "id": "6e5c63f6",
   "metadata": {},
   "outputs": [
    {
     "data": {
      "text/plain": [
       "343"
      ]
     },
     "execution_count": 7,
     "metadata": {},
     "output_type": "execute_result"
    }
   ],
   "source": [
    "len(lines)"
   ]
  },
  {
   "cell_type": "code",
   "execution_count": 8,
   "id": "69d76447",
   "metadata": {},
   "outputs": [],
   "source": [
    "final_result = {'Happy': 0, 'Angry': 0, 'Surprise': 0, 'Sad': 0, 'Fear': 0}"
   ]
  },
  {
   "cell_type": "code",
   "execution_count": 9,
   "id": "b00ac747",
   "metadata": {},
   "outputs": [
    {
     "name": "stdout",
     "output_type": "stream",
     "text": [
      "White lips, pale face Breathing in the snowflakes Burnt lungs, sour taste Light's gone, days {'Happy': 0.29, 'Angry': 0.14, 'Surprise': 0.0, 'Sad': 0.14, 'Fear': 0.43}\n",
      "end Struggling to pay rent Long nights, strange men And they say She's in the {'Happy': 0.0, 'Angry': 0.0, 'Surprise': 0.5, 'Sad': 0.0, 'Fear': 0.5}\n",
      "Class A Team Stuck in her daydream Been this way since 18 But lately, her {'Happy': 0.0, 'Angry': 0.0, 'Surprise': 0.5, 'Sad': 0.0, 'Fear': 0.5}\n",
      "face seems Slowly sinking, wasting Crumbling like pastries And they scream The worst things in {'Happy': 0.0, 'Angry': 0.0, 'Surprise': 0.25, 'Sad': 0.75, 'Fear': 0.0}\n",
      "life come free to us 'Cause we're just under the upper hand And go mad {'Happy': 0.33, 'Angry': 0.33, 'Surprise': 0.0, 'Sad': 0.0, 'Fear': 0.33}\n",
      "for a couple grams And she don't wanna go outside tonight And in a pipe {'Happy': 0.0, 'Angry': 0.0, 'Surprise': 0.0, 'Sad': 1.0, 'Fear': 0.0}\n",
      "she flies to the motherland Or sells love to another man It's too cold outside {'Happy': 0.5, 'Angry': 0.0, 'Surprise': 0.5, 'Sad': 0.0, 'Fear': 0.0}\n",
      "For angels to fly Angels to fly Ripped gloves, raincoat Tried to swim, stay afloat {'Happy': 0.0, 'Angry': 1.0, 'Surprise': 0.0, 'Sad': 0.0, 'Fear': 0.0}\n",
      "Dry house, wet clothes Loose change, bank notes Weary-eyed, dry throat Call girl, no phone {'Happy': 0.0, 'Angry': 0.0, 'Surprise': 0.5, 'Sad': 0.0, 'Fear': 0.5}\n",
      "And they say She's in the Class A Team Stuck in her daydream Been this {'Happy': 0.0, 'Angry': 0.0, 'Surprise': 0.67, 'Sad': 0.0, 'Fear': 0.33}\n",
      "way since 18 But lately, her face seems Slowly sinking, wasting Crumbling like pastries And {'Happy': 0.0, 'Angry': 0.0, 'Surprise': 0.0, 'Sad': 1.0, 'Fear': 0.0}\n",
      "they scream The worst things in life come free to us 'Cause we're just under {'Happy': 0.25, 'Angry': 0.0, 'Surprise': 0.25, 'Sad': 0.25, 'Fear': 0.25}\n",
      "the upper hand And go mad for a couple grams But she don't wanna go {'Happy': 0.0, 'Angry': 0.5, 'Surprise': 0.0, 'Sad': 0.5, 'Fear': 0.0}\n",
      "outside tonight And in a pipe she flies to the motherland Sells love to another {'Happy': 1.0, 'Angry': 0.0, 'Surprise': 0.0, 'Sad': 0.0, 'Fear': 0.0}\n",
      "man It's too cold outside For angels to fly An angel will die Covered in {'Happy': 0.0, 'Angry': 0.0, 'Surprise': 0.5, 'Sad': 0.0, 'Fear': 0.5}\n",
      "white Closed eyes and hopin' for a better life This time, we'll fade out tonight {'Happy': 0.25, 'Angry': 0.0, 'Surprise': 0.25, 'Sad': 0.0, 'Fear': 0.5}\n",
      "Straight down the line And they say She's in the Class A Team Stuck in {'Happy': 0.0, 'Angry': 0.0, 'Surprise': 0.5, 'Sad': 0.0, 'Fear': 0.5}\n",
      "her daydream Been this way since 18 But lately, her face seems Slowly sinking, wasting {'Happy': 0.0, 'Angry': 0.0, 'Surprise': 0.0, 'Sad': 1.0, 'Fear': 0.0}\n",
      "Crumbling like pastries They scream The worst things in life come free to us And {'Happy': 0.25, 'Angry': 0.0, 'Surprise': 0.25, 'Sad': 0.25, 'Fear': 0.25}\n",
      "we're all under the upper hand And go mad for a couple grams And we {'Happy': 0.0, 'Angry': 1.0, 'Surprise': 0.0, 'Sad': 0.0, 'Fear': 0.0}\n",
      "don't wanna go outside tonight And in the pipe, fly to the motherland Or sell {'Happy': 0.0, 'Angry': 0.0, 'Surprise': 0.0, 'Sad': 1.0, 'Fear': 0.0}\n",
      "love to another man It's too cold outside For angels to fly Angels to fly {'Happy': 0.5, 'Angry': 0.0, 'Surprise': 0.5, 'Sad': 0.0, 'Fear': 0.0}\n",
      "Fly, fly For angels to fly, to fly, to fly Angels to die {'Happy': 0, 'Angry': 0, 'Surprise': 0, 'Sad': 0, 'Fear': 0}\n"
     ]
    }
   ],
   "source": [
    "count = 0\n",
    "\n",
    "for i in range(0,len(lines), 15):\n",
    "    \n",
    "    count += 1\n",
    "    intermediate = ' '.join(lines[i:i+15])\n",
    "    \n",
    "    emotion = te.get_emotion(intermediate)\n",
    "    \n",
    "    print(intermediate, emotion)\n",
    "    \n",
    "    for key, value in emotion.items():\n",
    "        \n",
    "        final_result[key] += value\n",
    "    \n",
    "#     print(intermediate, te.get_emotion(intermediate))"
   ]
  },
  {
   "cell_type": "code",
   "execution_count": 10,
   "id": "0bd96d43",
   "metadata": {},
   "outputs": [
    {
     "data": {
      "text/plain": [
       "{'Happy': 3.37,\n",
       " 'Angry': 2.9699999999999998,\n",
       " 'Surprise': 5.17,\n",
       " 'Sad': 5.890000000000001,\n",
       " 'Fear': 4.59}"
      ]
     },
     "execution_count": 10,
     "metadata": {},
     "output_type": "execute_result"
    }
   ],
   "source": [
    "final_result"
   ]
  },
  {
   "cell_type": "code",
   "execution_count": 11,
   "id": "aa663e6c",
   "metadata": {},
   "outputs": [
    {
     "data": {
      "text/plain": [
       "23"
      ]
     },
     "execution_count": 11,
     "metadata": {},
     "output_type": "execute_result"
    }
   ],
   "source": [
    "count"
   ]
  },
  {
   "cell_type": "code",
   "execution_count": 12,
   "id": "389d7f48",
   "metadata": {},
   "outputs": [],
   "source": [
    "for key in final_result:\n",
    "    final_result[key] /= count"
   ]
  },
  {
   "cell_type": "code",
   "execution_count": 13,
   "id": "ba4a5b10",
   "metadata": {},
   "outputs": [
    {
     "data": {
      "text/plain": [
       "{'Happy': 0.14652173913043479,\n",
       " 'Angry': 0.1291304347826087,\n",
       " 'Surprise': 0.22478260869565217,\n",
       " 'Sad': 0.25608695652173913,\n",
       " 'Fear': 0.19956521739130434}"
      ]
     },
     "execution_count": 13,
     "metadata": {},
     "output_type": "execute_result"
    }
   ],
   "source": [
    "final_result"
   ]
  },
  {
   "cell_type": "code",
   "execution_count": null,
   "id": "96e9a943",
   "metadata": {},
   "outputs": [],
   "source": []
  }
 ],
 "metadata": {
  "kernelspec": {
   "display_name": "Python 3 (ipykernel)",
   "language": "python",
   "name": "python3"
  },
  "language_info": {
   "codemirror_mode": {
    "name": "ipython",
    "version": 3
   },
   "file_extension": ".py",
   "mimetype": "text/x-python",
   "name": "python",
   "nbconvert_exporter": "python",
   "pygments_lexer": "ipython3",
   "version": "3.9.8"
  }
 },
 "nbformat": 4,
 "nbformat_minor": 5
}
