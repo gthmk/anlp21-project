{
 "cells": [
  {
   "cell_type": "markdown",
   "id": "32b64001",
   "metadata": {},
   "source": [
    "# Utility"
   ]
  },
  {
   "cell_type": "code",
   "execution_count": 3,
   "id": "28a9cdb5",
   "metadata": {},
   "outputs": [],
   "source": [
    "def addToDict(chord_dict, chord_num):\n",
    "    if chord_num in chord_dict:\n",
    "        chord_dict[chord_num] += 1\n",
    "    else:\n",
    "        chord_dict[chord_num] = 1\n",
    "    return chord_dict\n",
    "    "
   ]
  },
  {
   "cell_type": "markdown",
   "id": "79995dc3",
   "metadata": {},
   "source": [
    "# Cleaning the Lyrics"
   ]
  },
  {
   "cell_type": "code",
   "execution_count": 1,
   "id": "18bf727c",
   "metadata": {},
   "outputs": [],
   "source": [
    "#genius API gives some bad data including movie & play scripts\n",
    "#to remove the majority of those cases, we are removing a percent of the longest songs\n",
    "# the correct perc is determined in the EDA analysis\n",
    "def removeLongSongs(df, perc):\n",
    "    df['len'] = None\n",
    "    df['len'] = df['dirty_lyrics'].apply(lambda x: len(str(x)))\n",
    "    lengths = list(df['len'])\n",
    "    df = df.loc[df.len < np.percentile(lengths, perc)]\n",
    "    df = df.drop(columns=['len'])\n",
    "    return df"
   ]
  },
  {
   "cell_type": "code",
   "execution_count": 2,
   "id": "e5c4be0e",
   "metadata": {},
   "outputs": [],
   "source": [
    "def clean_lyrics(lyrics):\n",
    "\n",
    "    #remove verse/chorus/bridge etc. inside []\n",
    "    cleaned_lyrics = re.sub(r'\\[(.*?)\\]','', lyrics)\n",
    "    #remove genius *embed* words\n",
    "    cleaned_lyrics = re.sub(r\"\\S*Embed\\S*\",'', cleaned_lyrics)\n",
    "    \n",
    "    #The below code may be required for some other parts of pipeline\n",
    "    #For LDA, it is baked into lyrics_to_words\n",
    "    \n",
    "    #lowercase and strip\n",
    "    #cleaned_lyrics = cleaned_lyrics.lower().strip()\n",
    "    #remove punctuations\n",
    "    #cleaned_lyrics = re.sub(r\"[^\\w\\d'\\s]+\",'', cleaned_lyrics)\n",
    "    \n",
    "    return cleaned_lyrics "
   ]
  },
  {
   "cell_type": "code",
   "execution_count": 3,
   "id": "04747431",
   "metadata": {},
   "outputs": [],
   "source": [
    "def read_stopwords(filename):\n",
    "    stopwords={}\n",
    "    with open(filename) as file:\n",
    "        for line in file:\n",
    "            stopwords[line.rstrip()]=1\n",
    "    return stopwords"
   ]
  },
  {
   "cell_type": "code",
   "execution_count": 4,
   "id": "d87791a3",
   "metadata": {},
   "outputs": [],
   "source": [
    "def lyrics_to_words(lyrics):\n",
    "    \n",
    "    #for lemmatization\n",
    "    lemma = WordNetLemmatizer()\n",
    "    #ps =PorterStemmer()\n",
    "    \n",
    "    #lowercase and strip\n",
    "    tokens = nltk.wordpunct_tokenize(lyrics.lower())\n",
    "    #tokens = lyrics.lower().split()\n",
    "        \n",
    "    stop_words = {k:1 for k in stopwords.words('english')}\n",
    "    stop_words.update(read_stopwords(\"jockers.stopwords\"))\n",
    "    stop_words[\"'s\"]=1\n",
    "    stop_words=list(stop_words.keys())\n",
    "    \n",
    "    s1 = set(string.punctuation)\n",
    "    my_punct = ['!', '\"', '#', '$', '%', '&', \"'\", '(', ')', '*', '+', ',', '.',\n",
    "           '/', ':', ';', '<', '=', '>', '?', '@', '[', '\\\\', ']', '^', '_', \n",
    "           '`', '{', '|', '}', '~', '»', '«', '“', '”']\n",
    "    s2 = set(my_punct)\n",
    "    exclude = set.union(s1,s2)\n",
    "    \n",
    "    stopword_removal = [token for token in tokens if token not in stop_words]\n",
    "    punct_removal = [token for token in stopword_removal if token not in exclude]\n",
    "    alnum = [token for token in punct_removal if token.isalnum()]\n",
    "    normalized = [lemma.lemmatize(word) for word in alnum]\n",
    "    \n",
    "    return normalized"
   ]
  },
  {
   "cell_type": "markdown",
   "id": "0cebffd4",
   "metadata": {},
   "source": [
    "# Cleaning the Tab"
   ]
  },
  {
   "cell_type": "code",
   "execution_count": 6,
   "id": "627217a8",
   "metadata": {},
   "outputs": [],
   "source": [
    "flat_to_sharp_dict = {'Db':'C#', 'Eb':'D#', 'Gb':'F#', 'Ab':'G#', 'Bb':'A#', 'Cb':'B'}\n",
    "chord_base = ['C#m', 'C#', 'Cm', 'C', 'D#m', 'D#', 'Dm', 'D', 'Em', 'E', 'F#m', 'F#', 'Fm', 'F', 'G#m', 'G#', 'Gm', 'G', 'A#m', 'A#', 'Am', 'A', 'Bm', 'B']\n"
   ]
  },
  {
   "cell_type": "markdown",
   "id": "6cdef3c1",
   "metadata": {},
   "source": [
    "## Utility Functions"
   ]
  },
  {
   "cell_type": "code",
   "execution_count": 4,
   "id": "4f4f7f6b",
   "metadata": {},
   "outputs": [],
   "source": [
    "def sepExt(chord):\n",
    "    \n",
    "    #if '/' in chord:\n",
    "    #    chord_type_split = chord.split('/')\n",
    "    #else:\n",
    "    #chord_type_split = [chord_type]\n",
    "    #for chord in chord_type_split:\n",
    "    \n",
    "    #Em -> Em\n",
    "    #Emaj7 -> E\n",
    "    #Emmaj -> Em\n",
    "    \n",
    "    for note in chord_base:\n",
    "        #print('{}, {}'.format(note, chord))\n",
    "        if note in chord:\n",
    "            \n",
    "            if chord.replace(note, '')[:2] == 'aj':\n",
    "                continue\n",
    "            else:\n",
    "                ext = chord.replace(note, '')\n",
    "                #if len(ext) > 0:\n",
    "                    #print('{}, {}, {}, {}'.format(chord, note, chord[len(note):len(note)+2], ext))\n",
    "                return note, ext"
   ]
  },
  {
   "cell_type": "code",
   "execution_count": 6,
   "id": "a6feb5ef",
   "metadata": {},
   "outputs": [],
   "source": [
    "def convertToSharp(chords):\n",
    "    clean_chords = []\n",
    "    for chord in chords.split(','):\n",
    "        clean_chord = chord\n",
    "        for flat in flat_to_sharp_dict:\n",
    "            if flat in chord:\n",
    "                clean_chord = clean_chord.replace(flat, flat_to_sharp_dict[flat])\n",
    "        clean_chords.append(clean_chord)\n",
    "    return ','.join(clean_chords)"
   ]
  },
  {
   "cell_type": "markdown",
   "id": "3d596f97",
   "metadata": {},
   "source": [
    "## Move Over Chords for Capo\n"
   ]
  },
  {
   "cell_type": "code",
   "execution_count": 8,
   "id": "d1aa544a",
   "metadata": {},
   "outputs": [],
   "source": [
    "import pandas as pd\n",
    "chord_map = pd.read_table('ChordDistanceMap.csv', sep=\",\", index_col=\"Chords\")"
   ]
  },
  {
   "cell_type": "code",
   "execution_count": 2,
   "id": "d083a3a0",
   "metadata": {},
   "outputs": [],
   "source": [
    "def getShiftedChord(chord, shift):\n",
    "    base, ext = sepExt(chord)\n",
    "    #Dmmaj9\n",
    "    #Dm & maj9\n",
    "    #D \n",
    "    \n",
    "    minor = False\n",
    "    if 'm' in base:\n",
    "        minor = True\n",
    "        base = base.replace('m', '')\n",
    "    shift_chord = chord_map.loc[chord_map[base] == shift, base].index[0]\n",
    "    if minor:\n",
    "        return shift_chord + 'm' + ext\n",
    "    else:\n",
    "        return shift_chord + ext"
   ]
  },
  {
   "cell_type": "code",
   "execution_count": 36,
   "id": "8ed36b81",
   "metadata": {},
   "outputs": [],
   "source": [
    "def moveForCapo(chords, capo):\n",
    "    new_chords = []\n",
    "    for chord in chords.split(','):\n",
    "        if '/' in chord:\n",
    "            split_chord = chord.split('/')\n",
    "            new_chord = '{}/{}'.format(getShiftedChord(split_chord[0], capo), getShiftedChord(split_chord[1], capo))\n",
    "        else:\n",
    "            new_chord = getShiftedChord(chord, capo)\n",
    "        new_chords.append(new_chord)\n",
    "    return ','.join(new_chords)\n",
    "    "
   ]
  },
  {
   "cell_type": "markdown",
   "id": "008e1cea",
   "metadata": {},
   "source": [
    "# Getting Key Information"
   ]
  },
  {
   "cell_type": "markdown",
   "id": "237ab4b2",
   "metadata": {},
   "source": [
    "## Greer Key Estimate"
   ]
  },
  {
   "cell_type": "code",
   "execution_count": 7,
   "id": "bdf5ed98",
   "metadata": {},
   "outputs": [],
   "source": [
    "#pull in the key table for each chord structure\n",
    "keyTable = []\n",
    "keyTableFile = open('key_table_UTF-8.txt')\n",
    "for line in keyTableFile.readlines():\n",
    "    chords = line.split(' ')\n",
    "    keyTable.append(chords[:-1])"
   ]
  },
  {
   "cell_type": "code",
   "execution_count": 8,
   "id": "152230da",
   "metadata": {},
   "outputs": [],
   "source": [
    "\"\"\"\n",
    "Ben Ma\n",
    "Python 3.x\n",
    "Contains the utility function findTonicNumNo7.\n",
    "\"\"\"\n",
    "\n",
    "def findTonicNumNo7(songChords): #songChords is a list, keyTable is a list of lists\n",
    "    # edit songChords to change 7ths to just major\n",
    "    songChordsNo7 = copy.deepcopy(songChords)\n",
    "    for i in range(0, len(songChordsNo7)):\n",
    "        songChordsNo7[i] = songChordsNo7[i].replace(\"7\", \"\")\n",
    "\n",
    "    maxKey = 0 #0 thru 11 for C thru B\n",
    "    maxScore = 0\n",
    "    for i in range(0,len(keyTable)): #go thru each of the 12 keys--example for key of C: C Dm Em F G G7 Am Bdim\n",
    "        curScore = 0\n",
    "        key = keyTable[i]\n",
    "        for chord in songChordsNo7:\n",
    "            for j in range(0,len(key)): #go thru each note in the major scale of the key\n",
    "                note = key[j]\n",
    "                if chord==note:\n",
    "                    if (j == 1 or j == 2 or j == 7):\n",
    "                        curScore+=0.9 #tiebreaker: the ii, iii, and vii are weighted less\n",
    "                    else:\n",
    "                        curScore+=1 #if it's a match, add 1 to the \"score\" of the current key\n",
    "                    break\n",
    "        if curScore>maxScore:\n",
    "            maxScore=curScore\n",
    "            maxKey = i\n",
    "    return maxKey #return key with most matches for the chords in the song"
   ]
  },
  {
   "cell_type": "code",
   "execution_count": 4,
   "id": "646bf3be",
   "metadata": {},
   "outputs": [],
   "source": [
    "def pickMainKey(song):\n",
    "\n",
    "    chord_dict = {}\n",
    "    chord_dict = addToDict(chord_dict, song['spotify_key'])\n",
    "    chord_dict = addToDict(chord_dict, song['greer_key'])\n",
    "    chord_dict = addToDict(chord_dict, song['firstNote_key'])\n",
    "    chord_dict = addToDict(chord_dict, song['lastNote_key'])\n",
    "    chord_dict = dict( sorted(chord_dict.items(), key=operator.itemgetter(1),reverse=True))\n",
    "    \n",
    "    if len(chord_dict) == 1:\n",
    "        return list(chord_dict.items())[0][0]\n",
    "    if list(chord_dict.items())[0][1] > list(chord_dict.items())[1][1]:\n",
    "        return list(chord_dict.items())[0][0]\n",
    "    if song['firstNote_key'] == song['lastNote_key']:\n",
    "        return song['firstNote_key']\n",
    "    else:\n",
    "        return song['greer_key']\n",
    "    "
   ]
  },
  {
   "cell_type": "markdown",
   "id": "192910f3",
   "metadata": {},
   "source": [
    "## First Chord Key"
   ]
  },
  {
   "cell_type": "code",
   "execution_count": 9,
   "id": "b2ff6052",
   "metadata": {},
   "outputs": [],
   "source": [
    "pitch_class = {'C':0, 'C#':1, 'D':2, 'D#':3, 'E':4, 'F':5, 'F#':6, 'G':7, 'G#':8, 'A':9, 'A#':10, 'B':11}"
   ]
  },
  {
   "cell_type": "code",
   "execution_count": 1,
   "id": "46035804",
   "metadata": {},
   "outputs": [],
   "source": [
    "def ChordToNum(chord_base):\n",
    "    return pitch_class[chord_base.replace('m', '')]"
   ]
  }
 ],
 "metadata": {
  "kernelspec": {
   "display_name": "Python 3 (ipykernel)",
   "language": "python",
   "name": "python3"
  },
  "language_info": {
   "codemirror_mode": {
    "name": "ipython",
    "version": 3
   },
   "file_extension": ".py",
   "mimetype": "text/x-python",
   "name": "python",
   "nbconvert_exporter": "python",
   "pygments_lexer": "ipython3",
   "version": "3.8.8"
  }
 },
 "nbformat": 4,
 "nbformat_minor": 5
}
