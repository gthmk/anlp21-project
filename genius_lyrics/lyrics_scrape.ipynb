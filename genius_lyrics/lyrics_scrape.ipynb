{
 "cells": [
  {
   "cell_type": "markdown",
   "id": "f6262b87",
   "metadata": {},
   "source": [
    "# scrape lyrics data from genius"
   ]
  },
  {
   "cell_type": "code",
   "execution_count": null,
   "id": "e29c7f70",
   "metadata": {},
   "outputs": [],
   "source": [
    "import pandas as pd\n",
    "import matplotlib.pyplot as plt\n",
    "import lyricsgenius\n",
    "from time import sleep\n",
    "import re\n",
    "import sys\n",
    "import numpy as np\n",
    "from requests.exceptions import Timeout\n",
    "from random import randint\n",
    "%matplotlib inline"
   ]
  },
  {
   "cell_type": "markdown",
   "id": "7c7617a2",
   "metadata": {},
   "source": [
    "## genius references\n",
    "\n",
    "1. [Get Genius client access token from here](https://genius.com/api-clients)\n",
    "2. [Handling Genius Connection Timeouts](https://github.com/johnwmillr/LyricsGenius/issues/121)"
   ]
  },
  {
   "cell_type": "code",
   "execution_count": null,
   "id": "d93a999d",
   "metadata": {},
   "outputs": [],
   "source": [
    "#genius client access token\n",
    "client_access_token = \"EKY8j6LYR9VzltQlUNhRyseucjnSI2fBgkipKCPbPgZwC7ZPx3hN3xNlaUW6ewlv\"\n",
    "#timeout and sleep can be adjusted\n",
    "genius = lyricsgenius.Genius(client_access_token, timeout=2, sleep_time=5)"
   ]
  },
  {
   "cell_type": "code",
   "execution_count": null,
   "id": "baabf3d1",
   "metadata": {},
   "outputs": [],
   "source": [
    "#input file with spotify data dump\n",
    "filename = \"/Users/gautham/Downloads/playlist_tracks.csv\"\n",
    "#local path for download\n",
    "path = \"/Users/gautham/Documents/Documents - gBookPro/Berkeley MIMS/Semester 1/256 - ANLP/anlp21-project/test_dwn/\""
   ]
  },
  {
   "cell_type": "code",
   "execution_count": null,
   "id": "f0222197",
   "metadata": {},
   "outputs": [],
   "source": [
    "#import data frame and create lyrics column\n",
    "lyrics_df = pd.read_csv(filename)\n",
    "lyrics_df.drop('Unnamed: 0', inplace=True, axis=1)\n",
    "lyrics_df['lyrics'] = \"\""
   ]
  },
  {
   "cell_type": "code",
   "execution_count": null,
   "id": "e6865943",
   "metadata": {},
   "outputs": [],
   "source": [
    "#function to clean title using regexes to improve Genius API search result accuracy\n",
    "def clean_title(title):\n",
    "    \n",
    "    #remove remaster\n",
    "    if re.search(r'^.+?(?=-)',title):\n",
    "        title_cln = re.match(r'^.+?(?=-)',title).group(0)\n",
    "        return title_cln\n",
    "    elif re.search(r'^.+?(?=\\x28)',title):\n",
    "        title_cln = re.match(r'^.+?(?=\\x28)',title).group(0)\n",
    "        return title_cln\n",
    "    else:\n",
    "        return title"
   ]
  },
  {
   "cell_type": "code",
   "execution_count": null,
   "id": "a53048bc",
   "metadata": {},
   "outputs": [],
   "source": [
    "lyrics_df.head()"
   ]
  },
  {
   "cell_type": "markdown",
   "id": "f2c329d5",
   "metadata": {},
   "source": [
    "## approach 1 - using `df.iterrows`\n",
    "\n",
    "`df.iterrows` does not allow us to [mutate the df using row](https://stackoverflow.com/questions/31458794/python-using-iterrows-to-create-columns) so lyrics for each song are saved to a local file indexed by spotify's unique `track_id` field to be read in later."
   ]
  },
  {
   "cell_type": "code",
   "execution_count": null,
   "id": "e40b9af1",
   "metadata": {},
   "outputs": [],
   "source": [
    "#iterate through all rows using iterrows()\n",
    "for idx, row in lyrics_df.iterrows():\n",
    "    print(\"Handling row {}\".format(str(idx)))\n",
    "    \n",
    "    #get track_id for indexing each txt file created\n",
    "    track_id = str(row['track_id'])\n",
    "    #grab title and clean using helper function\n",
    "    title_   = str(clean_title(row['track_name']))\n",
    "    #grab artist name\n",
    "    artist_  = str(row['track_artist_name'])\n",
    "    \n",
    "    #5 retries in case of exceptions\n",
    "    retries = 0\n",
    "    while retries < 5:\n",
    "        try:\n",
    "            #search Genius API for song and create a song object\n",
    "            song = genius.search_song(title_,artist_)\n",
    "        #handle timeout and connection errors\n",
    "        except (Timeout, ConnectionError) as e:\n",
    "            retries += 1\n",
    "            print(\"Retry {} for song {}\".format(str(retries),str(title_)))\n",
    "            continue\n",
    "        \n",
    "        #if a song was retrieved, get lyrics text for it\n",
    "        if song is not None:\n",
    "            text_lyrics = song.to_text(sanitize=True)\n",
    "            \n",
    "            #this doesn't work, see StackOverflow article cited above\n",
    "            #row['lyrics'] = text_lyrics\n",
    "            \n",
    "            #write lyrics to file indexed by track_id\n",
    "            with open(path + track_id + '.txt', \"w\") as file:\n",
    "                file.write(text_lyrics) \n",
    "                file.close()\n",
    "        \n",
    "        #this codeblock is not required since df cannot be mutated using iterrows\n",
    "        #else:\n",
    "            #row['lyrics'] = None\n",
    "        \n",
    "        break"
   ]
  },
  {
   "cell_type": "markdown",
   "id": "234cb7bd",
   "metadata": {},
   "source": [
    "## approach 2 - using `df.[column_name][idx]` indexing\n",
    "\n",
    "`df.[column_name][idx]` indexing allowed us to mutate the df but raised this [warning message](https://pandas.pydata.org/pandas-docs/stable/user_guide/indexing.html#returning-a-view-versus-a-copy)"
   ]
  },
  {
   "cell_type": "code",
   "execution_count": null,
   "id": "f5d3c21b",
   "metadata": {},
   "outputs": [],
   "source": [
    "#iterate through all rows using iterrows()\n",
    "for i in range(len(lyrics_df)):\n",
    "    print(\"Handling row {}\".format(str(i+1)))\n",
    "        \n",
    "    #get track_id for indexing each txt file created\n",
    "    track_id = str(lyrics_df['track_id'][i])\n",
    "    #grab title and clean using helper function\n",
    "    title_   = clean_title(lyrics_df['track_name'][i])\n",
    "    #grab artist name\n",
    "    artist_  = lyrics_df['track_artist_name'][i]\n",
    "    \n",
    "    #5 retries in case of exceptions\n",
    "    retries = 0\n",
    "    while retries < 5:\n",
    "        try:\n",
    "            #search Genius API for song and create a song object\n",
    "            song = genius.search_song(title_,artist_)\n",
    "        #handle timeout and connection errors\n",
    "        except (Timeout, ConnectionError) as e:\n",
    "            print(\"Retry {} for song {}\".format(str(retries),str(title_)))\n",
    "            retries += 1\n",
    "            continue\n",
    "        \n",
    "        #if a song was retrieved, get lyrics text for it\n",
    "        if song is not None:\n",
    "            text_lyrics = song.to_text(sanitize=True)\n",
    "            #mutate df, add lyrics \n",
    "            lyrics_df['lyrics'][i] = text_lyrics\n",
    "            #write lyrics to file indexed by track_id\n",
    "            with open(path + track_id + '.txt', \"w\") as file:\n",
    "                file.write(text_lyrics) \n",
    "                file.close()\n",
    "        #if no lyrics retrieved, add None to corresponding row\n",
    "        else:\n",
    "            lyrics_df['lyrics'][i] = None\n",
    "        \n",
    "        break"
   ]
  },
  {
   "cell_type": "code",
   "execution_count": null,
   "id": "15fd1a48",
   "metadata": {},
   "outputs": [],
   "source": [
    "#lyrics_df.head()"
   ]
  },
  {
   "cell_type": "code",
   "execution_count": null,
   "id": "1e4619f5",
   "metadata": {},
   "outputs": [],
   "source": []
  }
 ],
 "metadata": {
  "kernelspec": {
   "display_name": "Python [conda env:CalHacks] *",
   "language": "python",
   "name": "conda-env-CalHacks-py"
  },
  "language_info": {
   "codemirror_mode": {
    "name": "ipython",
    "version": 3
   },
   "file_extension": ".py",
   "mimetype": "text/x-python",
   "name": "python",
   "nbconvert_exporter": "python",
   "pygments_lexer": "ipython3",
   "version": "3.8.8"
  }
 },
 "nbformat": 4,
 "nbformat_minor": 5
}
