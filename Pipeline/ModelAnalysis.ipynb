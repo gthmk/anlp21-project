{
 "cells": [
  {
   "cell_type": "code",
   "execution_count": 1,
   "id": "545817a5",
   "metadata": {},
   "outputs": [],
   "source": [
    "from sklearn.feature_extraction.text import CountVectorizer\n",
    "from sklearn.linear_model import LinearRegression\n",
    "from sklearn.ensemble import RandomForestRegressor\n",
    "from sklearn.ensemble import GradientBoostingRegressor\n",
    "from sklearn.metrics import mean_absolute_error\n",
    "from sklearn.metrics import mean_absolute_percentage_error\n",
    "from sklearn.metrics import mean_squared_error\n",
    "from sklearn.metrics import r2_score\n",
    "from matplotlib import pyplot\n",
    "from sklearn.decomposition import TruncatedSVD\n",
    "from sklearn.pipeline import Pipeline\n",
    "\n",
    "from scipy.sparse import csr_matrix, hstack\n",
    "\n",
    "#from numpy import hstack"
   ]
  },
  {
   "cell_type": "code",
   "execution_count": 2,
   "id": "06fe6a58",
   "metadata": {},
   "outputs": [
    {
     "name": "stderr",
     "output_type": "stream",
     "text": [
      "[nltk_data] Downloading package stopwords to\n",
      "[nltk_data]     /Users/romitbarua/nltk_data...\n",
      "[nltk_data]   Package stopwords is already up-to-date!\n",
      "[nltk_data] Downloading package punkt to\n",
      "[nltk_data]     /Users/romitbarua/nltk_data...\n",
      "[nltk_data]   Package punkt is already up-to-date!\n",
      "[nltk_data] Downloading package wordnet to\n",
      "[nltk_data]     /Users/romitbarua/nltk_data...\n",
      "[nltk_data]   Package wordnet is already up-to-date!\n"
     ]
    },
    {
     "name": "stdout",
     "output_type": "stream",
     "text": [
      "Requirement already satisfied: pyLDAvis in /Users/romitbarua/opt/anaconda3/envs/anlp/lib/python3.8/site-packages (3.3.1)\n",
      "Requirement already satisfied: funcy in /Users/romitbarua/opt/anaconda3/envs/anlp/lib/python3.8/site-packages (from pyLDAvis) (1.16)\n",
      "Requirement already satisfied: future in /Users/romitbarua/opt/anaconda3/envs/anlp/lib/python3.8/site-packages (from pyLDAvis) (0.18.2)\n",
      "Requirement already satisfied: jinja2 in /Users/romitbarua/opt/anaconda3/envs/anlp/lib/python3.8/site-packages (from pyLDAvis) (3.0.1)\n",
      "Requirement already satisfied: scipy in /Users/romitbarua/opt/anaconda3/envs/anlp/lib/python3.8/site-packages (from pyLDAvis) (1.7.1)\n",
      "Requirement already satisfied: joblib in /Users/romitbarua/opt/anaconda3/envs/anlp/lib/python3.8/site-packages (from pyLDAvis) (1.0.1)\n",
      "Requirement already satisfied: numexpr in /Users/romitbarua/opt/anaconda3/envs/anlp/lib/python3.8/site-packages (from pyLDAvis) (2.7.3)\n",
      "Requirement already satisfied: sklearn in /Users/romitbarua/opt/anaconda3/envs/anlp/lib/python3.8/site-packages (from pyLDAvis) (0.0)\n",
      "Requirement already satisfied: scikit-learn in /Users/romitbarua/opt/anaconda3/envs/anlp/lib/python3.8/site-packages (from pyLDAvis) (0.24.2)\n",
      "Requirement already satisfied: gensim in /Users/romitbarua/opt/anaconda3/envs/anlp/lib/python3.8/site-packages (from pyLDAvis) (4.1.2)\n",
      "Requirement already satisfied: pandas>=1.2.0 in /Users/romitbarua/opt/anaconda3/envs/anlp/lib/python3.8/site-packages (from pyLDAvis) (1.3.1)\n",
      "Requirement already satisfied: numpy>=1.20.0 in /Users/romitbarua/opt/anaconda3/envs/anlp/lib/python3.8/site-packages (from pyLDAvis) (1.21.2)\n",
      "Requirement already satisfied: setuptools in /Users/romitbarua/opt/anaconda3/envs/anlp/lib/python3.8/site-packages (from pyLDAvis) (58.0.4)\n",
      "Requirement already satisfied: python-dateutil>=2.7.3 in /Users/romitbarua/opt/anaconda3/envs/anlp/lib/python3.8/site-packages (from pandas>=1.2.0->pyLDAvis) (2.8.2)\n",
      "Requirement already satisfied: pytz>=2017.3 in /Users/romitbarua/opt/anaconda3/envs/anlp/lib/python3.8/site-packages (from pandas>=1.2.0->pyLDAvis) (2021.3)\n",
      "Requirement already satisfied: six>=1.5 in /Users/romitbarua/opt/anaconda3/envs/anlp/lib/python3.8/site-packages (from python-dateutil>=2.7.3->pandas>=1.2.0->pyLDAvis) (1.16.0)\n",
      "Requirement already satisfied: smart-open>=1.8.1 in /Users/romitbarua/opt/anaconda3/envs/anlp/lib/python3.8/site-packages (from gensim->pyLDAvis) (5.2.1)\n",
      "Requirement already satisfied: MarkupSafe>=2.0 in /Users/romitbarua/opt/anaconda3/envs/anlp/lib/python3.8/site-packages (from jinja2->pyLDAvis) (2.0.1)\n",
      "Requirement already satisfied: threadpoolctl>=2.0.0 in /Users/romitbarua/opt/anaconda3/envs/anlp/lib/python3.8/site-packages (from scikit-learn->pyLDAvis) (2.2.0)\n",
      "Importing Clean DF -> Completed Import\n"
     ]
    }
   ],
   "source": [
    "%run FeatureExtractor.ipynb"
   ]
  },
  {
   "cell_type": "markdown",
   "id": "a9387b04",
   "metadata": {},
   "source": [
    "# Function to Create the Models"
   ]
  },
  {
   "cell_type": "code",
   "execution_count": 3,
   "id": "95a39fd6",
   "metadata": {},
   "outputs": [],
   "source": [
    "def buildOlsModel():\n",
    "    model = LinearRegression()\n",
    "    return model"
   ]
  },
  {
   "cell_type": "code",
   "execution_count": 4,
   "id": "587a31ca",
   "metadata": {},
   "outputs": [],
   "source": [
    "class LogitRegression(LinearRegression):\n",
    "\n",
    "    def fit(self, x, p):\n",
    "        p = np.asarray(p)\n",
    "        y = np.log(p / (1 - p))\n",
    "        return super().fit(x, y)\n",
    "\n",
    "    def predict(self, x):\n",
    "        y = super().predict(x)\n",
    "        return 1 / (np.exp(-y) + 1)"
   ]
  },
  {
   "cell_type": "code",
   "execution_count": 5,
   "id": "a3d17e72",
   "metadata": {},
   "outputs": [],
   "source": [
    "def buildLogitModel():\n",
    "    model = LogitRegression(fit_intercept=True)\n",
    "    return model"
   ]
  },
  {
   "cell_type": "code",
   "execution_count": 6,
   "id": "61a8b222",
   "metadata": {},
   "outputs": [],
   "source": [
    "def buildGradientBoostedRegressor():\n",
    "    model = GradientBoostingRegressor()\n",
    "    return model"
   ]
  },
  {
   "cell_type": "code",
   "execution_count": 7,
   "id": "de01509d",
   "metadata": {},
   "outputs": [],
   "source": [
    "def buildRandomForestModel():\n",
    "    model = RandomForestRegressor()\n",
    "    return model"
   ]
  },
  {
   "cell_type": "markdown",
   "id": "70178896",
   "metadata": {},
   "source": [
    "# Utility"
   ]
  },
  {
   "cell_type": "code",
   "execution_count": 8,
   "id": "263f434e",
   "metadata": {},
   "outputs": [],
   "source": [
    "def combine_features(train_feature_list, test_feature_list):\n",
    "    final_trainX = train_feature_list[0]\n",
    "    final_testX = test_feature_list[0]\n",
    "    \n",
    "    train_feature_list.pop(0)\n",
    "    test_feature_list.pop(0)\n",
    "    \n",
    "    while len(train_feature_list) != 0:\n",
    "        final_trainX = hstack((final_trainX, train_feature_list[0]))\n",
    "        final_testX = hstack((final_testX, test_feature_list[0]))\n",
    "        train_feature_list.pop(0)\n",
    "        test_feature_list.pop(0)\n",
    "        \n",
    "    return final_trainX, final_testX"
   ]
  },
  {
   "cell_type": "code",
   "execution_count": 9,
   "id": "6d0f4f73",
   "metadata": {},
   "outputs": [],
   "source": [
    "def runAndEvalModel(model, trainX, testX, trainy, testy):\n",
    "    model.fit(trainX, (trainy))\n",
    "    train_pred = model.predict(trainX)\n",
    "    test_pred = model.predict(testX)\n",
    "    \n",
    "#     print(sorted(model.feature_importances_)[-1000:])\n",
    "#     pyplot.bar([x for x in range(len(model.feature_importances_))], model.feature_importances_)\n",
    "#     pyplot.show()\n",
    "    \n",
    "    mae = mean_absolute_error(y_true = testy, y_pred = test_pred)\n",
    "    mape = mean_absolute_percentage_error(y_true = testy, y_pred = test_pred)\n",
    "    mse = mean_squared_error(y_true = testy, y_pred = test_pred)\n",
    "    train_r2 = r2_score(y_true = trainy, y_pred = train_pred)\n",
    "    test_r2 = r2_score(y_true = testy, y_pred = test_pred)\n",
    "    \n",
    "    return mae, mape, mse, train_r2, test_r2\n",
    "    "
   ]
  },
  {
   "cell_type": "markdown",
   "id": "2ca0d649",
   "metadata": {},
   "source": [
    "# Run the models set by parameters defined in the input file"
   ]
  },
  {
   "cell_type": "code",
   "execution_count": 10,
   "id": "f0ed0e36",
   "metadata": {},
   "outputs": [],
   "source": [
    "def runModels(inputCsv, outputCsv):\n",
    "    input_df = pd.read_csv(inputCsv)\n",
    "    final_df = input_df.copy()\n",
    "    final_df['MAE'] = None\n",
    "    final_df['MAPE'] = None\n",
    "    final_df['MSE'] = None\n",
    "    final_df['train_R2'] = None\n",
    "    final_df['test_R2'] = None\n",
    "\n",
    "    for run in range(len(input_df)):\n",
    "\n",
    "        train_feature_list = []\n",
    "        test_feature_list = []\n",
    "\n",
    "        #create the model\n",
    "        if input_df.loc[run, 'ModelType'] == 'OLS':\n",
    "            model = buildOlsModel()\n",
    "        elif input_df.loc[run, 'ModelType'] == 'RandomForest':\n",
    "            model = buildRandomForestModel()\n",
    "        elif input_df.loc[run, 'ModelType'] == 'Logit':\n",
    "            model = buildLogitModel()\n",
    "        else:\n",
    "            model = buildGradientBoostedRegressor()\n",
    "\n",
    "        #build BoW features if requested\n",
    "        if input_df.loc[run, 'BowFeature'] == 1:\n",
    "            \n",
    "            BowFeatureType = input_df.loc[run, 'BowFeatureType']\n",
    "            BowFeatureSVD = input_df.loc[run, 'BowFeatureSVD']\n",
    "            BowFeatureTfidf = input_df.loc[run, 'BowFeatureTfidf']\n",
    "            \n",
    "            bow_vocab, bow_trainX, bow_testX = buildBowFeatures(BowFeatureType, BowFeatureTfidf, BowFeatureSVD)\n",
    "            train_feature_list.append(bow_trainX)\n",
    "            test_feature_list.append(bow_testX)\n",
    "\n",
    "        #build Chord Progression features if requested\n",
    "        if input_df.loc[run, 'chordProgFeature'] == 1:\n",
    "\n",
    "            keyColumn = input_df.loc[run, 'keyColumn']\n",
    "            chordNormType = input_df.loc[run, 'chordNormType']\n",
    "            chordLowGram = int(input_df.loc[run, 'chordLowGram'])\n",
    "            chordHighGram = int(input_df.loc[run, 'chordHighGram'])\n",
    "            chordBinary = input_df.loc[run, 'chordBinary']\n",
    "            chordProgSVD = input_df.loc[run, 'chordProgSVD']\n",
    "            chordProgSvdNumComp = input_df.loc[run, 'chordProgSvdNumComp']\n",
    "            chordProgTfidf = input_df.loc[run, 'chordProgTfidf']\n",
    "            chordProgDocFreq = input_df.loc[run, 'chordProgDocFreq']\n",
    "\n",
    "            chord_vocab, chord_trainX, chord_testX = buildChordProgressionFeatures(keyColumn,\n",
    "                                                                                   chordNormType,\n",
    "                                                                                   chordLowGram,\n",
    "                                                                                   chordHighGram,\n",
    "                                                                                   chordBinary,\n",
    "                                                                                   chordProgSVD,\n",
    "                                                                                   chordProgTfidf,\n",
    "                                                                                   num_components = chordProgSvdNumComp,\n",
    "                                                                                   min_df = chordProgDocFreq)\n",
    "            train_feature_list.append(chord_trainX)\n",
    "            test_feature_list.append(chord_testX)\n",
    "\n",
    "        #build LDA Features features if requested\n",
    "        if input_df.loc[run, 'ldaFeature'] == 1:\n",
    "\n",
    "            topics, lda_trainX, lda_testX = buildLdaFeatures()\n",
    "            train_feature_list.append(lda_trainX)\n",
    "            test_feature_list.append(lda_testX)\n",
    "\n",
    "        #build Emotion Features features if requested\n",
    "        if input_df.loc[run, 'emotionFeature'] == 1:\n",
    "\n",
    "            emotionFeatureType = input_df.loc[run, 'emotionFeatureType']\n",
    "            emotion_trainX, emotion_testX = buildEmotionFeatures(emotionFeatureType)\n",
    "            train_feature_list.append(emotion_trainX)\n",
    "            test_feature_list.append(emotion_testX)\n",
    "\n",
    "        #build Text Complexity Features features if requested\n",
    "        if input_df.loc[run, 'textComplexFeature'] == 1:\n",
    "            textComplex_trainX, textComplex_testX = buildTextComplexityFeatures()\n",
    "            train_feature_list.append(textComplex_trainX)\n",
    "            test_feature_list.append(textComplex_testX)\n",
    "\n",
    "\n",
    "        final_trainX, final_testX = combine_features(train_feature_list, test_feature_list)\n",
    "\n",
    "\n",
    "        attribute = input_df.loc[run, 'PredAttribute']\n",
    "        \n",
    "        randomY = input_df.loc[run, 'RandomY']\n",
    "        final_trainy, final_testy = buildY(attribute, randomY = randomY)\n",
    "\n",
    "\n",
    "        mae, mape, mse, train_r2, test_r2 = runAndEvalModel(model, final_trainX, final_testX, final_trainy, final_testy)\n",
    "\n",
    "        final_df.loc[run, 'MAE'] = mae\n",
    "        final_df.loc[run, 'MAPE'] = mape\n",
    "        final_df.loc[run, 'MSE'] = mse\n",
    "        final_df.loc[run, 'train_R2'] = train_r2\n",
    "        final_df.loc[run, 'test_R2'] = test_r2\n",
    "\n",
    "        print('Completed Run #{} out of {}'.format(run+1, len(input_df)))\n",
    "        print()\n",
    "        print(final_df)\n",
    "        \n",
    "    final_df.to_csv(outputCsv)\n",
    "    print(final_df)\n",
    "    \n",
    "        "
   ]
  },
  {
   "cell_type": "code",
   "execution_count": 11,
   "id": "c3a6cf43",
   "metadata": {},
   "outputs": [
    {
     "name": "stdout",
     "output_type": "stream",
     "text": [
      "Building BoW Features -> BoW Features Built\n",
      "Building LDA Features -> LDA Features Built\n",
      "Completed Run #1 out of 3\n",
      "\n",
      "  PredAttribute     ModelType  RandomY  BowFeature BowFeatureType  \\\n",
      "0        energy  RandomForest    False           1         Lyrics   \n",
      "1        energy  RandomForest    False           0            NaN   \n",
      "2        energy  RandomForest    False           0            NaN   \n",
      "\n",
      "   BowFeatureSVD  BowFeatureTfidf  chordProgFeature chordNormType  \\\n",
      "0            NaN              NaN                 0           NaN   \n",
      "1            NaN              NaN                 1          Full   \n",
      "2            NaN              NaN                 0           NaN   \n",
      "\n",
      "   chordLowGram  ...  chordProgDocFreq ldaFeature emotionFeature  \\\n",
      "0           NaN  ...               NaN          1              0   \n",
      "1           2.0  ...               1.0          1              0   \n",
      "2           NaN  ...               NaN          0              1   \n",
      "\n",
      "   emotionFeatureType  textComplexFeature      MAE      MAPE       MSE  \\\n",
      "0                 NaN                   0  0.16544  0.474171  0.042392   \n",
      "1                 0.0                   0     None      None      None   \n",
      "2                 0.0                   0     None      None      None   \n",
      "\n",
      "   train_R2   test_R2  \n",
      "0  0.885051  0.145305  \n",
      "1      None      None  \n",
      "2      None      None  \n",
      "\n",
      "[3 rows x 26 columns]\n",
      "Building Chord Progression Features -> 1.0\n",
      "Chord Progression Features Built\n",
      "Building LDA Features -> LDA Features Built\n",
      "Completed Run #2 out of 3\n",
      "\n",
      "  PredAttribute     ModelType  RandomY  BowFeature BowFeatureType  \\\n",
      "0        energy  RandomForest    False           1         Lyrics   \n",
      "1        energy  RandomForest    False           0            NaN   \n",
      "2        energy  RandomForest    False           0            NaN   \n",
      "\n",
      "   BowFeatureSVD  BowFeatureTfidf  chordProgFeature chordNormType  \\\n",
      "0            NaN              NaN                 0           NaN   \n",
      "1            NaN              NaN                 1          Full   \n",
      "2            NaN              NaN                 0           NaN   \n",
      "\n",
      "   chordLowGram  ...  chordProgDocFreq ldaFeature emotionFeature  \\\n",
      "0           NaN  ...               NaN          1              0   \n",
      "1           2.0  ...               1.0          1              0   \n",
      "2           NaN  ...               NaN          0              1   \n",
      "\n",
      "   emotionFeatureType  textComplexFeature       MAE      MAPE       MSE  \\\n",
      "0                 NaN                   0   0.16544  0.474171  0.042392   \n",
      "1                 0.0                   0  0.166396   0.47316  0.042799   \n",
      "2                 0.0                   0      None      None      None   \n",
      "\n",
      "   train_R2   test_R2  \n",
      "0  0.885051  0.145305  \n",
      "1   0.88325  0.137097  \n",
      "2      None      None  \n",
      "\n",
      "[3 rows x 26 columns]\n",
      "Building Emotion Features -> Emotion Features Built\n",
      "Completed Run #3 out of 3\n",
      "\n",
      "  PredAttribute     ModelType  RandomY  BowFeature BowFeatureType  \\\n",
      "0        energy  RandomForest    False           1         Lyrics   \n",
      "1        energy  RandomForest    False           0            NaN   \n",
      "2        energy  RandomForest    False           0            NaN   \n",
      "\n",
      "   BowFeatureSVD  BowFeatureTfidf  chordProgFeature chordNormType  \\\n",
      "0            NaN              NaN                 0           NaN   \n",
      "1            NaN              NaN                 1          Full   \n",
      "2            NaN              NaN                 0           NaN   \n",
      "\n",
      "   chordLowGram  ...  chordProgDocFreq ldaFeature emotionFeature  \\\n",
      "0           NaN  ...               NaN          1              0   \n",
      "1           2.0  ...               1.0          1              0   \n",
      "2           NaN  ...               NaN          0              1   \n",
      "\n",
      "   emotionFeatureType  textComplexFeature       MAE      MAPE       MSE  \\\n",
      "0                 NaN                   0   0.16544  0.474171  0.042392   \n",
      "1                 0.0                   0  0.166396   0.47316  0.042799   \n",
      "2                 0.0                   0   0.17854  0.517718  0.049178   \n",
      "\n",
      "   train_R2   test_R2  \n",
      "0  0.885051  0.145305  \n",
      "1   0.88325  0.137097  \n",
      "2  0.845464  0.008471  \n",
      "\n",
      "[3 rows x 26 columns]\n",
      "  PredAttribute     ModelType  RandomY  BowFeature BowFeatureType  \\\n",
      "0        energy  RandomForest    False           1         Lyrics   \n",
      "1        energy  RandomForest    False           0            NaN   \n",
      "2        energy  RandomForest    False           0            NaN   \n",
      "\n",
      "   BowFeatureSVD  BowFeatureTfidf  chordProgFeature chordNormType  \\\n",
      "0            NaN              NaN                 0           NaN   \n",
      "1            NaN              NaN                 1          Full   \n",
      "2            NaN              NaN                 0           NaN   \n",
      "\n",
      "   chordLowGram  ...  chordProgDocFreq ldaFeature emotionFeature  \\\n",
      "0           NaN  ...               NaN          1              0   \n",
      "1           2.0  ...               1.0          1              0   \n",
      "2           NaN  ...               NaN          0              1   \n",
      "\n",
      "   emotionFeatureType  textComplexFeature       MAE      MAPE       MSE  \\\n",
      "0                 NaN                   0   0.16544  0.474171  0.042392   \n",
      "1                 0.0                   0  0.166396   0.47316  0.042799   \n",
      "2                 0.0                   0   0.17854  0.517718  0.049178   \n",
      "\n",
      "   train_R2   test_R2  \n",
      "0  0.885051  0.145305  \n",
      "1   0.88325  0.137097  \n",
      "2  0.845464  0.008471  \n",
      "\n",
      "[3 rows x 26 columns]\n"
     ]
    }
   ],
   "source": [
    "runModels('Input.csv', 'FinalResults.csv')"
   ]
  },
  {
   "cell_type": "code",
   "execution_count": 12,
   "id": "8c00c9fa",
   "metadata": {},
   "outputs": [],
   "source": [
    "final_trainy, final_testy = buildY('acousticness', randomY = False)"
   ]
  },
  {
   "cell_type": "code",
   "execution_count": 13,
   "id": "ce817886",
   "metadata": {},
   "outputs": [
    {
     "data": {
      "text/plain": [
       "2085"
      ]
     },
     "execution_count": 13,
     "metadata": {},
     "output_type": "execute_result"
    }
   ],
   "source": [
    "avg = np.average(final_testy)\n",
    "preds = [avg]*len(final_testy)\n",
    "len(preds)"
   ]
  },
  {
   "cell_type": "code",
   "execution_count": 14,
   "id": "3d671c2e",
   "metadata": {},
   "outputs": [
    {
     "data": {
      "text/plain": [
       "0.26615040891367253"
      ]
     },
     "execution_count": 14,
     "metadata": {},
     "output_type": "execute_result"
    }
   ],
   "source": [
    "mae = mean_absolute_error(y_true = final_testy, y_pred = preds)\n",
    "mae"
   ]
  },
  {
   "cell_type": "code",
   "execution_count": 15,
   "id": "2e5e2f76",
   "metadata": {},
   "outputs": [
    {
     "data": {
      "text/plain": [
       "Index(['track_name', 'track_id', 'playlist_name', 'playlist_id',\n",
       "       'playlist_genre', 'track_name', 'track_artist_name', 'track_artist_id',\n",
       "       'danceability', 'energy', 'spotify_key', 'loudness', 'mode',\n",
       "       'acousticness', 'valence', 'tempo', 'song_name', 'dirty_tabs', 'capo',\n",
       "       'dirty_lyrics', 'clean_lyrics', 'words_for_LDA', 'clean_tabs',\n",
       "       'greer_key', 'firstNote_key', 'lastNote_key', 'bestChoice_key',\n",
       "       'text2emotion', 'vader_emotion'],\n",
       "      dtype='object')"
      ]
     },
     "execution_count": 15,
     "metadata": {},
     "output_type": "execute_result"
    }
   ],
   "source": [
    "df.columns"
   ]
  }
 ],
 "metadata": {
  "kernelspec": {
   "display_name": "Python 3 (ipykernel)",
   "language": "python",
   "name": "python3"
  },
  "language_info": {
   "codemirror_mode": {
    "name": "ipython",
    "version": 3
   },
   "file_extension": ".py",
   "mimetype": "text/x-python",
   "name": "python",
   "nbconvert_exporter": "python",
   "pygments_lexer": "ipython3",
   "version": "3.8.8"
  }
 },
 "nbformat": 4,
 "nbformat_minor": 5
}
