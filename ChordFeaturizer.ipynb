{
 "cells": [
  {
   "cell_type": "code",
   "execution_count": 1,
   "id": "97aeca4b",
   "metadata": {},
   "outputs": [],
   "source": [
    "from sklearn.feature_extraction.text import CountVectorizer\n",
    "from sklearn.feature_extraction.text import TfidfVectorizer"
   ]
  },
  {
   "cell_type": "code",
   "execution_count": 2,
   "id": "149103a5",
   "metadata": {},
   "outputs": [
    {
     "ename": "NameError",
     "evalue": "name 'pd' is not defined",
     "output_type": "error",
     "traceback": [
      "\u001b[0;31m---------------------------------------------------------------------------\u001b[0m",
      "\u001b[0;31mNameError\u001b[0m                                 Traceback (most recent call last)",
      "\u001b[0;32m/var/folders/nf/mymsq1x11ls4v86t0_q5v_yw0000gn/T/ipykernel_18173/3551258164.py\u001b[0m in \u001b[0;36m<module>\u001b[0;34m\u001b[0m\n\u001b[1;32m      2\u001b[0m \u001b[0mchord_base\u001b[0m \u001b[0;34m=\u001b[0m \u001b[0;34m[\u001b[0m\u001b[0;34m'C#m'\u001b[0m\u001b[0;34m,\u001b[0m \u001b[0;34m'C#'\u001b[0m\u001b[0;34m,\u001b[0m \u001b[0;34m'Cm'\u001b[0m\u001b[0;34m,\u001b[0m \u001b[0;34m'C'\u001b[0m\u001b[0;34m,\u001b[0m \u001b[0;34m'D#m'\u001b[0m\u001b[0;34m,\u001b[0m \u001b[0;34m'D#'\u001b[0m\u001b[0;34m,\u001b[0m \u001b[0;34m'Dm'\u001b[0m\u001b[0;34m,\u001b[0m \u001b[0;34m'D'\u001b[0m\u001b[0;34m,\u001b[0m \u001b[0;34m'Em'\u001b[0m\u001b[0;34m,\u001b[0m \u001b[0;34m'E'\u001b[0m\u001b[0;34m,\u001b[0m \u001b[0;34m'F#m'\u001b[0m\u001b[0;34m,\u001b[0m \u001b[0;34m'F#'\u001b[0m\u001b[0;34m,\u001b[0m \u001b[0;34m'Fm'\u001b[0m\u001b[0;34m,\u001b[0m \u001b[0;34m'F'\u001b[0m\u001b[0;34m,\u001b[0m \u001b[0;34m'G#m'\u001b[0m\u001b[0;34m,\u001b[0m \u001b[0;34m'G#'\u001b[0m\u001b[0;34m,\u001b[0m \u001b[0;34m'Gm'\u001b[0m\u001b[0;34m,\u001b[0m \u001b[0;34m'G'\u001b[0m\u001b[0;34m,\u001b[0m \u001b[0;34m'A#m'\u001b[0m\u001b[0;34m,\u001b[0m \u001b[0;34m'A#'\u001b[0m\u001b[0;34m,\u001b[0m \u001b[0;34m'Am'\u001b[0m\u001b[0;34m,\u001b[0m \u001b[0;34m'A'\u001b[0m\u001b[0;34m,\u001b[0m \u001b[0;34m'Bm'\u001b[0m\u001b[0;34m,\u001b[0m \u001b[0;34m'B'\u001b[0m\u001b[0;34m]\u001b[0m\u001b[0;34m\u001b[0m\u001b[0;34m\u001b[0m\u001b[0m\n\u001b[1;32m      3\u001b[0m \u001b[0mclass_pitch\u001b[0m \u001b[0;34m=\u001b[0m \u001b[0;34m{\u001b[0m\u001b[0;36m0\u001b[0m\u001b[0;34m:\u001b[0m\u001b[0;34m'C'\u001b[0m\u001b[0;34m,\u001b[0m \u001b[0;36m1\u001b[0m\u001b[0;34m:\u001b[0m\u001b[0;34m'C#'\u001b[0m\u001b[0;34m,\u001b[0m \u001b[0;36m2\u001b[0m\u001b[0;34m:\u001b[0m\u001b[0;34m'D'\u001b[0m\u001b[0;34m,\u001b[0m \u001b[0;36m3\u001b[0m\u001b[0;34m:\u001b[0m\u001b[0;34m'D#'\u001b[0m\u001b[0;34m,\u001b[0m \u001b[0;36m4\u001b[0m\u001b[0;34m:\u001b[0m\u001b[0;34m'E'\u001b[0m\u001b[0;34m,\u001b[0m \u001b[0;36m5\u001b[0m\u001b[0;34m:\u001b[0m\u001b[0;34m'F'\u001b[0m\u001b[0;34m,\u001b[0m \u001b[0;36m6\u001b[0m\u001b[0;34m:\u001b[0m\u001b[0;34m'F#'\u001b[0m\u001b[0;34m,\u001b[0m \u001b[0;36m7\u001b[0m\u001b[0;34m:\u001b[0m\u001b[0;34m'G'\u001b[0m\u001b[0;34m,\u001b[0m \u001b[0;36m8\u001b[0m\u001b[0;34m:\u001b[0m\u001b[0;34m'G#'\u001b[0m\u001b[0;34m,\u001b[0m \u001b[0;36m9\u001b[0m\u001b[0;34m:\u001b[0m\u001b[0;34m'A'\u001b[0m\u001b[0;34m,\u001b[0m \u001b[0;36m10\u001b[0m\u001b[0;34m:\u001b[0m\u001b[0;34m'A#'\u001b[0m\u001b[0;34m,\u001b[0m \u001b[0;36m11\u001b[0m\u001b[0;34m:\u001b[0m\u001b[0;34m'B'\u001b[0m\u001b[0;34m}\u001b[0m\u001b[0;34m\u001b[0m\u001b[0;34m\u001b[0m\u001b[0m\n\u001b[0;32m----> 4\u001b[0;31m \u001b[0mchord_map\u001b[0m \u001b[0;34m=\u001b[0m \u001b[0mpd\u001b[0m\u001b[0;34m.\u001b[0m\u001b[0mread_table\u001b[0m\u001b[0;34m(\u001b[0m\u001b[0;34m'ChordDistanceMap.csv'\u001b[0m\u001b[0;34m,\u001b[0m \u001b[0msep\u001b[0m\u001b[0;34m=\u001b[0m\u001b[0;34m\",\"\u001b[0m\u001b[0;34m,\u001b[0m \u001b[0mindex_col\u001b[0m\u001b[0;34m=\u001b[0m\u001b[0;34m\"Chords\"\u001b[0m\u001b[0;34m)\u001b[0m\u001b[0;34m\u001b[0m\u001b[0;34m\u001b[0m\u001b[0m\n\u001b[0m",
      "\u001b[0;31mNameError\u001b[0m: name 'pd' is not defined"
     ]
    }
   ],
   "source": [
    "#import pandas as pd\n",
    "chord_base = ['C#m', 'C#', 'Cm', 'C', 'D#m', 'D#', 'Dm', 'D', 'Em', 'E', 'F#m', 'F#', 'Fm', 'F', 'G#m', 'G#', 'Gm', 'G', 'A#m', 'A#', 'Am', 'A', 'Bm', 'B']\n",
    "class_pitch = {0:'C', 1:'C#', 2:'D', 3:'D#', 4:'E', 5:'F', 6:'F#', 7:'G', 8:'G#', 9:'A', 10:'A#', 11:'B'}\n",
    "chord_map = pd.read_table('ChordDistanceMap.csv', sep=\",\", index_col=\"Chords\")"
   ]
  },
  {
   "cell_type": "markdown",
   "id": "9eb553af",
   "metadata": {},
   "source": [
    "# Create Normalized Chords"
   ]
  },
  {
   "cell_type": "code",
   "execution_count": null,
   "id": "ef2a8fbc",
   "metadata": {},
   "outputs": [],
   "source": [
    "def sepExt(chord):\n",
    "    \n",
    "    #if '/' in chord:\n",
    "    #    chord_type_split = chord.split('/')\n",
    "    #else:\n",
    "    #chord_type_split = [chord_type]\n",
    "    #for chord in chord_type_split:\n",
    "    \n",
    "    #Em -> Em\n",
    "    #Emaj7 -> E\n",
    "    #Emmaj -> Em\n",
    "    \n",
    "    for note in chord_base:\n",
    "        #print('{}, {}'.format(note, chord))\n",
    "        if note in chord:\n",
    "            \n",
    "            if chord.replace(note, '')[:2] == 'aj':\n",
    "                continue\n",
    "            else:\n",
    "                ext = chord.replace(note, '')\n",
    "                #if len(ext) > 0:\n",
    "                    #print('{}, {}, {}, {}'.format(chord, note, chord[len(note):len(note)+2], ext))\n",
    "                return note, ext"
   ]
  },
  {
   "cell_type": "code",
   "execution_count": null,
   "id": "1b79e163",
   "metadata": {},
   "outputs": [],
   "source": [
    "def buildNormChord(center, chord):\n",
    "\n",
    "    #Dm - maj7\n",
    "    #Center:\n",
    "    #full:2X0Xmaj7\n",
    "    #partial: 2X0\n",
    "    #bare: 2\n",
    "    chord_stem, ext = sepExt(chord)\n",
    "    chord_root = chord_stem.replace('m','')\n",
    "    distance = chord_map[center][chord_root]\n",
    "    if chord_stem[len(chord_stem)-1] == 'm':\n",
    "        isMajor = '0'\n",
    "    else:\n",
    "        isMajor = '1'\n",
    "    \n",
    "    \n",
    "    norm_chord_bare = str(distance)\n",
    "    norm_chord_partial = norm_chord_bare + 'X{}'.format(isMajor)\n",
    "    if len(ext) > 0:\n",
    "        norm_chord_full = norm_chord_partial + 'X{}'.format(ext)\n",
    "    else:\n",
    "        norm_chord_full = norm_chord_partial\n",
    "    \n",
    "    return norm_chord_full, norm_chord_partial, norm_chord_bare"
   ]
  },
  {
   "cell_type": "code",
   "execution_count": null,
   "id": "ba68ac78",
   "metadata": {},
   "outputs": [],
   "source": [
    "def vectorizeTab(chords, ngram_low, ngram_high,  binary, Tfidf = False, runSVD = 0, num_components = 100, train_perc = 0.8, min_df = 100):\n",
    "    if Tfidf:\n",
    "        vectorizer = TfidfVectorizer(max_features=100000, ngram_range=(ngram_low,ngram_high), lowercase=True, strip_accents=None, binary=binary)\n",
    "    else:\n",
    "        vectorizer = CountVectorizer(max_features=100000, ngram_range=(ngram_low,ngram_high), lowercase=True, strip_accents=None, binary=binary)\n",
    "    \n",
    "    train_break = int(len(df)*train_perc)\n",
    "    \n",
    "    X_train_ChordProg =  vectorizer.fit_transform(chords[:train_break])\n",
    "    X_test_ChordProg = vectorizer.transform(chords[train_break:])\n",
    "    \n",
    "    if runSVD == 1:\n",
    "        try:\n",
    "            svd = TruncatedSVD(int(num_components))\n",
    "            X_train_ChordProg = svd.fit_transform(X_train_ChordProg)\n",
    "            X_test_ChordProg = svd.transform(X_test_ChordProg)\n",
    "            #print(X_train_ChordProg.shape)\n",
    "            #print(X_test_ChordProg.shape)\n",
    "        except Exception as e:\n",
    "            print('Didnt Run SVD')\n",
    "            print(e)\n",
    "            pass\n",
    "\n",
    "    \n",
    "    vocab = dict(sorted(vectorizer.vocabulary_.items(), key=lambda item: item[1]))\n",
    "    \n",
    "    return vocab, X_train_ChordProg, X_test_ChordProg"
   ]
  },
  {
   "cell_type": "code",
   "execution_count": null,
   "id": "df737053",
   "metadata": {},
   "outputs": [],
   "source": [
    "def buildNormTab(df, center_col):\n",
    "    \n",
    "    #tab_full_dict = {}\n",
    "    #tab_partial_dict = {}\n",
    "    #tab_bare_dict = {}\n",
    "    \n",
    "    full = []\n",
    "    partial = []\n",
    "    bare = []\n",
    "    for idx in df.index:\n",
    "        center = class_pitch[df.loc[idx, center_col]]\n",
    "        song_full = []\n",
    "        song_partial = []\n",
    "        song_bare = []\n",
    "        for chord in df.loc[idx, 'clean_tabs'].split(','):\n",
    "            if '/' in chord:\n",
    "                chords = chord.split('/')\n",
    "                chord_full_one, chord_partial_one, chord_bare_one = buildNormChord(center, chords[0])\n",
    "                chord_full_two, chord_partial_two, chord_bare_two = buildNormChord(center, chords[1])\n",
    "                chord_full = '{}/{}'.format(chord_full_one, chord_full_two)\n",
    "                chord_partial = '{}/{}'.format(chord_partial_one, chord_partial_two)\n",
    "                chord_bare = '{}/{}'.format(chord_bare_one, chord_bare_two)\n",
    "            else:\n",
    "                chord_full, chord_partial, chord_bare = buildNormChord(center, chord)\n",
    "\n",
    "            song_full.append(chord_full)\n",
    "            song_partial.append(chord_partial)\n",
    "            song_bare.append(chord_bare)\n",
    "\n",
    "        full.append(' '.join(song_full))\n",
    "        partial.append(' '.join(song_partial))\n",
    "        bare.append(' '.join(song_bare))\n",
    "        \n",
    "    return full, partial, bare"
   ]
  }
 ],
 "metadata": {
  "kernelspec": {
   "display_name": "Python 3 (ipykernel)",
   "language": "python",
   "name": "python3"
  },
  "language_info": {
   "codemirror_mode": {
    "name": "ipython",
    "version": 3
   },
   "file_extension": ".py",
   "mimetype": "text/x-python",
   "name": "python",
   "nbconvert_exporter": "python",
   "pygments_lexer": "ipython3",
   "version": "3.8.8"
  }
 },
 "nbformat": 4,
 "nbformat_minor": 5
}
